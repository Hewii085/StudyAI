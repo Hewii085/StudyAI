{
 "cells": [
  {
   "cell_type": "markdown",
   "metadata": {},
   "source": [
    "# Testing Object Localization"
   ]
  },
  {
   "cell_type": "code",
   "execution_count": 1,
   "metadata": {},
   "outputs": [],
   "source": [
    "import tensorflow as tf\n",
    "import numpy as np\n",
    "import cv2\n",
    "from matplotlib.pyplot import imshow\n",
    "import matplotlib.pyplot as plt\n",
    "%matplotlib inline\n",
    "import os\n",
    "\n",
    "os.environ[\"CUDA_VISIBLE_DEVICES\"] = str(0)"
   ]
  },
  {
   "cell_type": "code",
   "execution_count": 2,
   "metadata": {},
   "outputs": [],
   "source": [
    "import numpy as np\n",
    "import os\n",
    "import tensorflow as tf\n",
    "from handle_dataset import HandleDataFolder\n",
    "\n",
    "class Train:\n",
    "    __xs = []\n",
    "    __ys = []\n",
    "    __x_ = []\n",
    "    __y_box = []\n",
    "    __y_obj = []\n",
    "    __is_training = []\n",
    "    __model_box = []\n",
    "    __model_has_obj = []\n",
    "    __session = []\n",
    "    __train_step = []\n",
    "    __loss = []\n",
    "    __merged_summary_op = []\n",
    "    __writer = []\n",
    "    __saver = []\n",
    "\n",
    "    def build_graph(self):\n",
    "        self.__x_ = tf.placeholder(\"float\", shape=[None, 240, 320, 3], name='X')\n",
    "        self.__y_box = tf.placeholder(\"float\", shape=[None, 4], name='Y_box')\n",
    "        self.__y_obj = tf.placeholder(\"float\", shape=[None, 1], name='Y_obj')\n",
    "        # Add dropout to the fully connected layer\n",
    "        self.__is_training = tf.placeholder(tf.bool)\n",
    "\n",
    "        with tf.name_scope(\"model\") as scope:\n",
    "            conv1 = tf.layers.conv2d(inputs=self.__x_, filters=32, kernel_size=[5, 5],\n",
    "                                     padding=\"same\", activation=tf.nn.relu)\n",
    "\n",
    "            pool1 = tf.layers.max_pooling2d(inputs=conv1, pool_size=[2, 2], strides=2)\n",
    "\n",
    "            conv2 = tf.layers.conv2d(inputs=pool1, filters=64, kernel_size=[5, 5],\n",
    "                                     padding=\"same\", activation=tf.nn.relu)\n",
    "\n",
    "            pool2 = tf.layers.max_pooling2d(inputs=conv2, pool_size=[2, 2], strides=2)\n",
    "\n",
    "            conv3 = tf.layers.conv2d(inputs=pool2, filters=32, kernel_size=[5, 5],\n",
    "                                     padding=\"same\", activation=tf.nn.relu)\n",
    "\n",
    "            pool3 = tf.layers.max_pooling2d(inputs=conv3, pool_size=[2, 2], strides=2)\n",
    "\n",
    "            pool3_flat = tf.reshape(pool3, [-1, 40 * 30 * 32])\n",
    "\n",
    "            # 2 Head version (has object head, and bouding box)\n",
    "            self.__model_box = tf.layers.dense(inputs=pool3_flat, units=4)\n",
    "            self.__model_has_obj = tf.layers.dense(inputs=pool3_flat, units=1, activation=tf.nn.sigmoid)\n",
    "\n",
    "        with tf.name_scope(\"loss_func\") as scope:\n",
    "            loss_obj = tf.losses.log_loss(labels=self.__y_obj, predictions=self.__model_has_obj)\n",
    "            loss_bbox = tf.losses.huber_loss(labels=self.__y_box, predictions=self.__model_box)\n",
    "            # Get ratio of samples with objects\n",
    "            batch_size = tf.cast(tf.shape(self.__y_obj)[0], tf.float32)\n",
    "            num_objects_label = tf.cast(tf.count_nonzero(tf.cast(self.__y_obj > 0.0, tf.float32)), tf.float32)\n",
    "            print(num_objects_label)\n",
    "\n",
    "            ratio_has_objects = (num_objects_label * tf.constant(100.0)) / batch_size\n",
    "\n",
    "            # Loss function that has an \"ignore\" factor on the bbox loss when objects is not detected\n",
    "            self.__loss = loss_obj + (loss_bbox*ratio_has_objects)\n",
    "\n",
    "            # Add loss to tensorboard\n",
    "            tf.summary.scalar(\"loss\", self.__loss)\n",
    "            tf.summary.scalar(\"loss_bbox\", loss_bbox)\n",
    "            tf.summary.scalar(\"loss_obj\", loss_obj)\n",
    "\n",
    "        with tf.name_scope(\"optimizer\") as scope:\n",
    "            self.__train_step = tf.train.AdamOptimizer(1e-4).minimize(self.__loss)\n",
    "\n",
    "        # Merge op for tensorboard\n",
    "        self.__merged_summary_op = tf.summary.merge_all()\n",
    "\n",
    "        # Build graph\n",
    "        init = tf.global_variables_initializer()\n",
    "\n",
    "        # Saver for checkpoints\n",
    "        self.__saver = tf.train.Saver(max_to_keep=None)\n",
    "\n",
    "        # Avoid allocating the whole memory\n",
    "        gpu_options = tf.GPUOptions(per_process_gpu_memory_fraction=0.6)\n",
    "        self.__session = tf.Session(config=tf.ConfigProto(gpu_options=gpu_options))\n",
    "        # Configure summary to output at given directory\n",
    "        self.__writer = tf.summary.FileWriter(\"./logs/loc_logs\", self.__session.graph)\n",
    "        self.__session.run(init)\n",
    "\n",
    "    def train(self, path='./dataset/', save_dir='./save'):\n",
    "        data = HandleDataFolder()\n",
    "        self.__xs, self.__ys = data.load_dataset(path)\n",
    "        self.build_graph()\n",
    "        # Train\n",
    "        for i in range(2000):\n",
    "            if i % 100 == 0:\n",
    "                loss_val, summary = self.__session.run([self.__loss, self.__merged_summary_op],\n",
    "                                                       feed_dict={self.__x_: self.__xs,\n",
    "                                                                  self.__y_obj: self.__ys[:, 0].reshape(-1, 1),\n",
    "                                                                  self.__y_box: self.__ys[:, 1:],\n",
    "                                                                  self.__is_training: False})\n",
    "                print(\"Loss: {}\".format(loss_val))\n",
    "                # Write to tensorboard summary\n",
    "                self.__writer.add_summary(summary, i)\n",
    "            self.__train_step.run(session=self.__session,feed_dict={self.__x_: self.__xs,\n",
    "                                                                    self.__y_obj: self.__ys[:, 0].reshape(-1,1),\n",
    "                                                                    self.__y_box: self.__ys[:, 1:],\n",
    "                                                                    self.__is_training: False})\n",
    "        if not os.path.exists(save_dir):\n",
    "            os.makedirs(save_dir)\n",
    "        checkpoint_path = os.path.join(save_dir, \"model\")\n",
    "        filename = self.__saver.save(self.__session, checkpoint_path)\n",
    "        print(\"Model saved in file: %s\" % filename)\n",
    "\n",
    "    @property\n",
    "    def out_box(self):\n",
    "        return self.__model_box\n",
    "\n",
    "    @property\n",
    "    def out_has_obj(self):\n",
    "        return self.__model_has_obj\n",
    "\n",
    "    @property\n",
    "    def input(self):\n",
    "        return self.__x_\n",
    "\n",
    "    @property\n",
    "    def label_in_bbox(self):\n",
    "        return self.__y_box\n",
    "\n",
    "    @property\n",
    "    def label_in_obj(self):\n",
    "        return self.__y_obj\n",
    "\n",
    "    @property\n",
    "    def num_parameters(self):\n",
    "        return np.sum([np.prod(v.get_shape().as_list()) for v in tf.trainable_variables()])\n"
   ]
  },
  {
   "cell_type": "markdown",
   "metadata": {},
   "source": [
    "## Load Test image"
   ]
  },
  {
   "cell_type": "code",
   "execution_count": 3,
   "metadata": {},
   "outputs": [
    {
     "data": {
      "image/png": "[encoded data removed]",
      "text/plain": [
       "<Figure size 432x288 with 1 Axes>"
      ]
     },
     "metadata": {
      "needs_background": "light"
     },
     "output_type": "display_data"
    }
   ],
   "source": [
    "#test_img = scipy.misc.imread('./test_data/test_0.jpg', mode=\"RGB\")\n",
    "test_img = cv2.imread('./test_data/test_0.jpg')\n",
    "plt.imshow(test_img)\n",
    "plt.show()"
   ]
  },
  {
   "cell_type": "markdown",
   "metadata": {},
   "source": [
    "### Build Graph and Restore saved Model"
   ]
  },
  {
   "cell_type": "code",
   "execution_count": 4,
   "metadata": {},
   "outputs": [
    {
     "name": "stdout",
     "output_type": "stream",
     "text": [
      "Tensor(\"loss_func/Cast_2:0\", shape=(), dtype=float32)\n",
      "INFO:tensorflow:Restoring parameters from ./save/model\n",
      "Number of parameters: 296933\n"
     ]
    }
   ],
   "source": [
    "model = Train()\n",
    "model.build_graph()\n",
    "model_in = model.input\n",
    "model_out_box = model.out_box\n",
    "model_out_has_obj = model.out_has_obj\n",
    "# Load tensorflow section\n",
    "sess = tf.InteractiveSession()\n",
    "saver = tf.train.Saver()\n",
    "saver.restore(sess, \"./save/model\")\n",
    "print('Number of parameters:',model.num_parameters)"
   ]
  },
  {
   "cell_type": "markdown",
   "metadata": {},
   "source": [
    "### Evaluate model on Image"
   ]
  },
  {
   "cell_type": "code",
   "execution_count": 44,
   "metadata": {},
   "outputs": [
    {
     "name": "stdout",
     "output_type": "stream",
     "text": [
      "[[ 4.0021977 -5.801032  -9.118556  -1.6284099]]\n",
      "[[0.]]\n"
     ]
    }
   ],
   "source": [
    "test_img = cv2.imread('./test_data/test_1.jpg')\n",
    "box, has_obj = sess.run([model_out_box, model_out_has_obj],feed_dict={model_in: [test_img]})\n",
    "print(box)\n",
    "print(has_obj)"
   ]
  },
  {
   "cell_type": "markdown",
   "metadata": {},
   "source": [
    "### Draw Bounding Box"
   ]
  },
  {
   "cell_type": "code",
   "execution_count": 45,
   "metadata": {},
   "outputs": [
    {
     "name": "stdout",
     "output_type": "stream",
     "text": [
      "x: -5.801032, y: 4.002198, w: -9.118556 h: -1.628410\n",
      "x: -1856, y: 960, w: -2917 h: -390\n"
     ]
    },
    {
     "data": {
      "image/png": "[encoded data removed]",
      "text/plain": [
       "<Figure size 432x288 with 1 Axes>"
      ]
     },
     "metadata": {
      "needs_background": "light"
     },
     "output_type": "display_data"
    }
   ],
   "source": [
    "y,x,w,h = box[0]\n",
    "print(\"x: %f, y: %f, w: %f h: %f\" % (x,y,w,h))\n",
    "x = int((x*320.0))\n",
    "y = int((y*240.0))\n",
    "w = int(w*320)\n",
    "h = int(h*240)\n",
    "print(\"x: %d, y: %d, w: %d h: %d\" % (x,y,w,h))\n",
    "cv2.rectangle(test_img, (x, y), (x + w, y + h), (255, 0, 0), 2)\n",
    "plt.imshow(test_img)\n",
    "plt.show()"
   ]
  },
  {
   "cell_type": "code",
   "execution_count": null,
   "metadata": {},
   "outputs": [],
   "source": []
  }
 ],
 "metadata": {
  "kernelspec": {
   "display_name": "Python 3",
   "language": "python",
   "name": "python3"
  },
  "language_info": {
   "codemirror_mode": {
    "name": "ipython",
    "version": 3
   },
   "file_extension": ".py",
   "mimetype": "text/x-python",
   "name": "python",
   "nbconvert_exporter": "python",
   "pygments_lexer": "ipython3",
   "version": "3.6.8"
  }
 },
 "nbformat": 4,
 "nbformat_minor": 2
}
