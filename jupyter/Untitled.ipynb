{
 "cells": [
  {
   "cell_type": "code",
   "execution_count": 2,
   "metadata": {},
   "outputs": [
    {
     "data": {
      "text/plain": [
       "'1.12.0'"
      ]
     },
     "execution_count": 2,
     "metadata": {},
     "output_type": "execute_result"
    }
   ],
   "source": [
    "import tensorflow as tf\n",
    "import numpy as np\n",
    "\n",
    "tf.__version__"
   ]
  },
  {
   "cell_type": "code",
   "execution_count": 3,
   "metadata": {},
   "outputs": [
    {
     "name": "stdout",
     "output_type": "stream",
     "text": [
      "[1 2 3 4 5]\n"
     ]
    }
   ],
   "source": [
    "arr_one=np.array([1,2,3,4,5])\n",
    "arr_two = np.array([0,0,0,0])\n",
    "print(arr_one)"
   ]
  },
  {
   "cell_type": "code",
   "execution_count": 4,
   "metadata": {},
   "outputs": [],
   "source": [
    "ten=tf.concat((arr_one,arr_two),axis=-1)"
   ]
  },
  {
   "cell_type": "code",
   "execution_count": 5,
   "metadata": {},
   "outputs": [
    {
     "name": "stdout",
     "output_type": "stream",
     "text": [
      "Tensor(\"concat:0\", shape=(9,), dtype=int32)\n"
     ]
    }
   ],
   "source": [
    "print(ten)"
   ]
  },
  {
   "cell_type": "code",
   "execution_count": 6,
   "metadata": {},
   "outputs": [],
   "source": [
    "arry=[\n",
    "    [\n",
    "        78.21261596679688,\n",
    "        119.09812927246094\n",
    "    ],\n",
    "    [\n",
    "        103.61547088623047,\n",
    "        156.59695434570312\n",
    "    ],\n",
    "    [\n",
    "        112.44337463378906,\n",
    "        170.9337158203125\n",
    "    ],\n",
    "    [\n",
    "        44.764163970947266,\n",
    "        65.76957702636719\n",
    "    ],\n",
    "    [\n",
    "        75.4170150756836,\n",
    "        112.6888656616211\n",
    "    ]\n",
    "]\n",
    "\n",
    "pwp = np.reshape(arry,(1,1,1,len(arry),2))/32"
   ]
  },
  {
   "cell_type": "code",
   "execution_count": 7,
   "metadata": {},
   "outputs": [
    {
     "name": "stdout",
     "output_type": "stream",
     "text": [
      "[[[[[2.44414425 3.72181654]\n",
      "    [3.23798347 4.89365482]\n",
      "    [3.51385546 5.34167862]\n",
      "    [1.39888012 2.05529928]\n",
      "    [2.35678172 3.52152705]]]]]\n"
     ]
    }
   ],
   "source": [
    "print(pwp)"
   ]
  },
  {
   "cell_type": "code",
   "execution_count": null,
   "metadata": {},
   "outputs": [],
   "source": []
  }
 ],
 "metadata": {
  "kernelspec": {
   "display_name": "Python 3",
   "language": "python",
   "name": "python3"
  },
  "language_info": {
   "codemirror_mode": {
    "name": "ipython",
    "version": 3
   },
   "file_extension": ".py",
   "mimetype": "text/x-python",
   "name": "python",
   "nbconvert_exporter": "python",
   "pygments_lexer": "ipython3",
   "version": "3.6.8"
  }
 },
 "nbformat": 4,
 "nbformat_minor": 2
}
